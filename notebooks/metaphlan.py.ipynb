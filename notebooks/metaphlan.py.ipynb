{
 "cells": [
  {
   "cell_type": "code",
   "execution_count": null,
   "metadata": {
    "tags": [
     "snakemake-job-properties"
    ]
   },
   "outputs": [],
   "source": [
    "\n",
    "######## snakemake preamble start (automatically inserted, do not edit) ########\n",
    "import sys; sys.path.extend(['/Users/john/git/nbis/nbis-meta/envs/nbis-meta/lib/python3.7/site-packages', '/Users/john/git/nbis/nbis-meta/notebooks']); import pickle; snakemake = pickle.loads(b'\\x80\\x03csnakemake.script\\nSnakemake\\nq\\x00)\\x81q\\x01}q\\x02(X\\x05\\x00\\x00\\x00inputq\\x03csnakemake.io\\nInputFiles\\nq\\x04)\\x81q\\x05X&\\x00\\x00\\x00results/report/metaphlan/metaphlan.tsvq\\x06a}q\\x07X\\x06\\x00\\x00\\x00_namesq\\x08}q\\tsbX\\x06\\x00\\x00\\x00outputq\\ncsnakemake.io\\nOutputFiles\\nq\\x0b)\\x81q\\x0cX&\\x00\\x00\\x00results/report/metaphlan/metaphlan.pdfq\\ra}q\\x0eh\\x08}q\\x0fsbX\\x06\\x00\\x00\\x00paramsq\\x10csnakemake.io\\nParams\\nq\\x11)\\x81q\\x12}q\\x13h\\x08}q\\x14sbX\\t\\x00\\x00\\x00wildcardsq\\x15csnakemake.io\\nWildcards\\nq\\x16)\\x81q\\x17}q\\x18h\\x08}q\\x19sbX\\x07\\x00\\x00\\x00threadsq\\x1aK\\x01X\\t\\x00\\x00\\x00resourcesq\\x1bcsnakemake.io\\nResources\\nq\\x1c)\\x81q\\x1d(K\\x01K\\x01e}q\\x1e(h\\x08}q\\x1f(X\\x06\\x00\\x00\\x00_coresq K\\x00N\\x86q!X\\x06\\x00\\x00\\x00_nodesq\"K\\x01N\\x86q#uh K\\x01h\"K\\x01ubX\\x03\\x00\\x00\\x00logq$csnakemake.io\\nLog\\nq%)\\x81q&}q\\'h\\x08}q(sbX\\x06\\x00\\x00\\x00configq)}q*(X\\t\\x00\\x00\\x00metaphlanq+\\x88X\\x07\\x00\\x00\\x00workdirq,X\\x01\\x00\\x00\\x00.q-X\\x0b\\x00\\x00\\x00sample_listq.X\\x1f\\x00\\x00\\x00samples/example_sample_list.tsvq/X\\x0c\\x00\\x00\\x00results_pathq0X\\x07\\x00\\x00\\x00resultsq1X\\x0b\\x00\\x00\\x00report_pathq2X\\x0e\\x00\\x00\\x00results/reportq3X\\x11\\x00\\x00\\x00intermediate_pathq4X\\x14\\x00\\x00\\x00results/intermediateq5X\\t\\x00\\x00\\x00temp_pathq6X\\x04\\x00\\x00\\x00tempq7X\\x0c\\x00\\x00\\x00scratch_pathq8X\\x04\\x00\\x00\\x00tempq9X\\r\\x00\\x00\\x00resource_pathq:X\\t\\x00\\x00\\x00resourcesq;X\\x06\\x00\\x00\\x00fastqcq<\\x88X\\x0b\\x00\\x00\\x00trimmomaticq=\\x88X\\r\\x00\\x00\\x00trim_adaptersq>\\x88X\\x16\\x00\\x00\\x00trimmomatic_pe_adapterq?X\\x0c\\x00\\x00\\x00TruSeq3-PE-2q@X\\x16\\x00\\x00\\x00trimmomatic_se_adapterqAX\\n\\x00\\x00\\x00TruSeq3-SEqBX\\x11\\x00\\x00\\x00pe_adapter_paramsqCX\\x07\\x00\\x00\\x002:30:15qDX\\x11\\x00\\x00\\x00se_adapter_paramsqEX\\x07\\x00\\x00\\x002:30:15qFX\\x15\\x00\\x00\\x00pe_pre_adapter_paramsqGX\\x00\\x00\\x00\\x00qHX\\x15\\x00\\x00\\x00se_pre_adapter_paramsqIhHX\\x16\\x00\\x00\\x00pe_post_adapter_paramsqJX1\\x00\\x00\\x00LEADING:3 TRAILING:3 SLIDINGWINDOW:4:15 MINLEN:31qKX\\x16\\x00\\x00\\x00se_post_adapter_paramsqLX1\\x00\\x00\\x00LEADING:3 TRAILING:3 SLIDINGWINDOW:4:15 MINLEN:31qMX\\x08\\x00\\x00\\x00cutadaptqN\\x89X\\x10\\x00\\x00\\x00adapter_sequenceqOX!\\x00\\x00\\x00AGATCGGAAGAGCACACGTCTGAACTCCAGTCAqPX\\x14\\x00\\x00\\x00rev_adapter_sequenceqQX!\\x00\\x00\\x00AGATCGGAAGAGCGTCGTGTAGGGAAAGAGTGTqRX\\x13\\x00\\x00\\x00cutadapt_error_rateqSG?\\xb9\\x99\\x99\\x99\\x99\\x99\\x9aX\\x08\\x00\\x00\\x00fastuniqqT\\x89X\\x0b\\x00\\x00\\x00phix_filterqU\\x89X\\t\\x00\\x00\\x00sortmernaqV\\x89X\\x0e\\x00\\x00\\x00sortmerna_keepqWX\\x08\\x00\\x00\\x00non_rRNAqXX\\x19\\x00\\x00\\x00sortmerna_remove_filteredqY\\x89X\\r\\x00\\x00\\x00sortmerna_dbsqZ]q[(X\\x1b\\x00\\x00\\x00rfam-5s-database-id98.fastaq\\\\X\\x1d\\x00\\x00\\x00rfam-5.8s-database-id98.fastaq]X\\x18\\x00\\x00\\x00silva-arc-16s-id95.fastaq^X\\x18\\x00\\x00\\x00silva-arc-23s-id98.fastaq_X\\x18\\x00\\x00\\x00silva-bac-16s-id90.fastaq`X\\x18\\x00\\x00\\x00silva-bac-23s-id98.fastaqaX\\x18\\x00\\x00\\x00silva-euk-18s-id95.fastaqbX\\x18\\x00\\x00\\x00silva-euk-28s-id98.fastaqceX\\x19\\x00\\x00\\x00sortmerna_paired_strategyqdX\\t\\x00\\x00\\x00paired_inqeX\\x10\\x00\\x00\\x00sortmerna_paramsqfX\\x12\\x00\\x00\\x00--num_alignments 1qgX\\x0e\\x00\\x00\\x00markduplicatesqh\\x88X\\x10\\x00\\x00\\x00assembly_threadsqiK\\x14X\\x07\\x00\\x00\\x00megahitqj\\x88X\\x19\\x00\\x00\\x00megahit_keep_intermediateqk\\x89X\\x1b\\x00\\x00\\x00megahit_additional_settingsqlX$\\x00\\x00\\x00--min-contig-len 300 --prune-level 3qmX\\n\\x00\\x00\\x00metaspadesqn\\x89X\\x1c\\x00\\x00\\x00metaspades_keep_intermediateqo\\x89X\\x19\\x00\\x00\\x00metaspades_keep_correctedqp\\x89X\\x1e\\x00\\x00\\x00metaspades_additional_settingsqqX&\\x00\\x00\\x00-k 21,31,41,51,61,71,81,91,101,111,121qrX\\x08\\x00\\x00\\x00tRNAscanqs\\x88X\\x08\\x00\\x00\\x00infernalqt\\x88X\\x10\\x00\\x00\\x00infernal_threadsquK\\x08X\\x0f\\x00\\x00\\x00infernal_dbpathqvX\\x12\\x00\\x00\\x00resources/infernalqwX\\x06\\x00\\x00\\x00eggnogqx\\x88X\\x04\\x00\\x00\\x00pfamqy\\x88X\\x03\\x00\\x00\\x00rgiqz\\x89X\\n\\x00\\x00\\x00rgi_paramsq{X/\\x00\\x00\\x00-a diamond --local --clean --input_type proteinq|X\\x14\\x00\\x00\\x00taxonomic_annotationq}\\x88X\\x10\\x00\\x00\\x00taxonomy_min_lenq~M\\xf4\\x01X\\x13\\x00\\x00\\x00tango_search_paramsq\\x7fX\\x16\\x00\\x00\\x00--evalue 0.01 --top 10q\\x80X\\x13\\x00\\x00\\x00tango_assign_paramsq\\x81X\\x16\\x00\\x00\\x00--evalue 0.001 --top 5q\\x82X\\x0e\\x00\\x00\\x00taxonomy_ranksq\\x83]q\\x84(X\\x0c\\x00\\x00\\x00superkingdomq\\x85X\\x06\\x00\\x00\\x00phylumq\\x86X\\x05\\x00\\x00\\x00classq\\x87X\\x05\\x00\\x00\\x00orderq\\x88X\\x06\\x00\\x00\\x00familyq\\x89X\\x05\\x00\\x00\\x00genusq\\x8aX\\x07\\x00\\x00\\x00speciesq\\x8beX\\x05\\x00\\x00\\x00taxdbq\\x8cX\\t\\x00\\x00\\x00uniref100q\\x8dX\\x11\\x00\\x00\\x00sourmash_fractionq\\x8eKdX\\x0f\\x00\\x00\\x00diamond_threadsq\\x8fK\\x14X\\x11\\x00\\x00\\x00min_contig_lengthq\\x90]q\\x91M\\xdc\\x05aX\\x07\\x00\\x00\\x00metabatq\\x92\\x89X\\x0f\\x00\\x00\\x00metabat_threadsq\\x93K\\x14X\\x07\\x00\\x00\\x00concoctq\\x94\\x89X\\x0f\\x00\\x00\\x00concoct_threadsq\\x95K\\x14X\\x06\\x00\\x00\\x00maxbinq\\x96\\x89X\\x10\\x00\\x00\\x00maxbin_markersetq\\x97K(X\\x0e\\x00\\x00\\x00maxbin_threadsq\\x98K\\nX\\x06\\x00\\x00\\x00checkmq\\x99\\x89X\\x12\\x00\\x00\\x00checkm_taxonomy_wfq\\x9a\\x89X\\x0b\\x00\\x00\\x00checkm_rankq\\x9bX\\x04\\x00\\x00\\x00lifeq\\x9cX\\x0c\\x00\\x00\\x00checkm_taxonq\\x9dX\\n\\x00\\x00\\x00Prokaryoteq\\x9eX\\x13\\x00\\x00\\x00checkm_reduced_treeq\\x9f\\x89X\\x06\\x00\\x00\\x00gtdbtkq\\xa0\\x89X\\x0f\\x00\\x00\\x00bowtie2_threadsq\\xa1K\\nX\\x0e\\x00\\x00\\x00bowtie2_paramsq\\xa2X\\x10\\x00\\x00\\x00--very-sensitiveq\\xa3X\\x06\\x00\\x00\\x00krakenq\\xa4\\x89X\\x12\\x00\\x00\\x00kraken_standard_dbq\\xa5\\x89X\\x0f\\x00\\x00\\x00kraken_prebuiltq\\xa6X\\x0e\\x00\\x00\\x00minikraken_8GBq\\xa7X\\r\\x00\\x00\\x00kraken_customq\\xa8hHX\\x14\\x00\\x00\\x00kraken_reduce_memoryq\\xa9\\x89X\\n\\x00\\x00\\x00centrifugeq\\xaa\\x89X\\x13\\x00\\x00\\x00centrifuge_prebuiltq\\xabX\\x05\\x00\\x00\\x00p+h+vq\\xacX\\x11\\x00\\x00\\x00centrifuge_customq\\xadhHX\\x14\\x00\\x00\\x00centrifuge_min_scoreq\\xaeKKX\\x1a\\x00\\x00\\x00centrifuge_max_assignmentsq\\xafK\\x01X\\x0f\\x00\\x00\\x00metaphlan_indexq\\xb0X\\x19\\x00\\x00\\x00mpa_v30_CHOCOPhlAn_201901q\\xb1X\\x14\\x00\\x00\\x00example_dataset_sizeq\\xb2J\\xa0\\x86\\x01\\x00X\\x06\\x00\\x00\\x00tmpdirq\\xb3h7X\\x0b\\x00\\x00\\x00runOnUppMaxq\\xb4X\\x02\\x00\\x00\\x00noq\\xb5X\\n\\x00\\x00\\x00annotationq\\xb6\\x88X\\x08\\x00\\x00\\x00assemblyq\\xb7\\x88X\\n\\x00\\x00\\x00preprocessq\\xb8\\x88X\\x08\\x00\\x00\\x00seq_typeq\\xb9X\\x05\\x00\\x00\\x00mixedq\\xbauX\\x04\\x00\\x00\\x00ruleq\\xbbX\\x0e\\x00\\x00\\x00plot_metaphlanq\\xbcX\\x0f\\x00\\x00\\x00bench_iterationq\\xbdNX\\t\\x00\\x00\\x00scriptdirq\\xbeX(\\x00\\x00\\x00/Users/john/git/nbis/nbis-meta/notebooksq\\xbfub.'); from snakemake.logging import logger; logger.printshellcmds = False; import os; os.chdir('/Users/john/git/nbis/nbis-meta');\n",
    "######## snakemake preamble end #########\n"
   ]
  },
  {
   "cell_type": "code",
   "execution_count": null,
   "metadata": {},
   "outputs": [],
   "source": [
    "# start coding here\n",
    "import pandas as pd\n",
    "import seaborn as sns\n",
    "import matplotlib.pyplot as plt\n",
    "%matplotlib inline\n",
    "%config InlineBackend.figure_format = 'svg'\n",
    "plt.style.use('ggplot')\n",
    "sns.set_style(\"whitegrid\")"
   ]
  },
  {
   "cell_type": "code",
   "execution_count": null,
   "metadata": {},
   "outputs": [],
   "source": [
    "rank = snakemake.params.rank"
   ]
  },
  {
   "cell_type": "code",
   "execution_count": null,
   "metadata": {},
   "outputs": [],
   "source": [
    "df = pd.read_csv(snakemake.input[0], sep=\"\\t\", comment=\"#\", header=0, index_col=0)\n",
    "df = df.assign(taxa = pd.Series([x.split(\"|\")[-1] for x in df.index], index=df.index))"
   ]
  },
  {
   "cell_type": "code",
   "execution_count": null,
   "metadata": {},
   "outputs": [],
   "source": [
    "rank_prefix = {'superkingdom': 'k__', 'phylum': 'p__', 'class': 'c__', 'order': 'o__', 'family': 'f__', \n",
    "               'genus': 'g__', 'species': 's__'}"
   ]
  },
  {
   "cell_type": "code",
   "execution_count": null,
   "metadata": {},
   "outputs": [],
   "source": [
    "df_r = df.loc[df.taxa.str.contains(rank_prefix[rank])]\n",
    "plot_data = df_r.drop(\"NCBI_tax_id\", axis=1).groupby(\"taxa\").sum()\n",
    "plot_data.rename(columns = lambda x: x.replace(\"_pe\", \"\").replace(\"_se\", \"\"), inplace=True)\n",
    "plot_data.index.name = rank\n",
    "ax = sns.clustermap(plot_data, z_score=0, method=\"complete\", cbar_kws={'label': 'z-score'}, linewidth=.1)\n",
    "ax.ax_heatmap.set_xticklabels(ax.ax_heatmap.get_xticklabels(), rotation=90);\n",
    "plt.savefig(snakemake.output[0], dpi=300, bbox_inches=\"tight\")"
   ]
  }
 ],
 "metadata": {
  "kernelspec": {
   "display_name": "Python 3",
   "language": "python",
   "name": "python3"
  },
  "language_info": {
   "codemirror_mode": {
    "name": "ipython",
    "version": 3
   },
   "file_extension": ".py",
   "mimetype": "text/x-python",
   "name": "python",
   "nbconvert_exporter": "python",
   "pygments_lexer": "ipython3",
   "version": "3.6.10"
  }
 },
 "nbformat": 4,
 "nbformat_minor": 4
}
